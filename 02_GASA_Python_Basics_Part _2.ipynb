{
 "cells": [
  {
   "cell_type": "markdown",
   "id": "ee246b86-19b0-4201-bb24-4de8fe492add",
   "metadata": {},
   "source": [
    "### License and Disclaimer\n",
    "\n",
    "**Copyright <2024> <Red Bush Analytics (Pty) Ltd>**\n",
    "\n",
    "Permission is hereby granted, free of charge, to any person obtaining a copy of this software and associated documentation files (the “Software”), to deal in the Software without restriction, including without limitation the rights to use, copy, modify, merge, publish, distribute, sublicense, and/or sell copies of the Software, and to permit persons to whom the Software is furnished to do so, subject to the following conditions.\n",
    "\n",
    "The above copyright notice and this permission notice shall be included in all copies or substantial portions of the Software.<br>\n",
    "\n",
    "THE SOFTWARE IS PROVIDED “AS IS”, WITHOUT WARRANTY OF ANY KIND, EXPRESS OR IMPLIED, INCLUDING BUT NOT LIMITED TO THE WARRANTIES OF MERCHANTABILITY, FITNESS FOR A PARTICULAR PURPOSE AND NONINFRINGEMENT. IN NO EVENT SHALL THE AUTHORS OR COPYRIGHT HOLDERS BE LIABLE FOR ANY CLAIM, DAMAGES OR OTHER LIABILITY, WHETHER IN AN ACTION OF CONTRACT, TORT OR OTHERWISE, ARISING FROM, OUT OF OR IN CONNECTION WITH THE SOFTWARE OR THE USE OR OTHER DEALINGS IN THE SOFTWARE.<br>\n",
    "\n",
    "This notebook was prepared by Red Bush Analytics for the Geostatistical Association of Southern Africa. <br> \n",
    "The reader can use the information below when appropriate credit is given where text is extracted.<br>\n",
    "This document's information is generally from public sources, and the copyrights to the content contained in the links belong to the authors.  It is your responsibility to check any restrictions on use with the respective copyright holders.<br>\n",
    "\n",
    "Opinions presented in this document are those of Red Bush Analytics and Kathleen Body (Author) as of the date published (2024/08/26) and are subject to change when presented with different information.   If you see another document with a different date and opinion, it is because I found new information, learned something and amended my opinion. Or, the Python code, Jupyter Notebook/lab software, or third-party links have changed, etc., and I updated the information. The same goes for the links presented. The information may change in the future. Check the document dates to make sure you have the information appropriate to the version of the software you are using.<br>\n",
    "\n",
    "**The information in this document is generally appropriate for Python versions from 3.10. Substantial changes have occurred from 3.10onwards, and the information may not be appropriate for earlier versions of Python (especially 3.8 or earlier).**\n"
   ]
  },
  {
   "cell_type": "markdown",
   "id": "5e0e7d40",
   "metadata": {},
   "source": [
    "# Python Basics\n",
    "\n",
    "This workbook introduces some basic concepts and terminology in Python.<br>\n",
    "It can be used as a reference for beginners.\n",
    "You should have done the Jupyter Notebook tutorial and know the difference between a Code block and a Markdown Block.\n",
    "This is a Markdown block with no code.<br>\n",
    "You can run this entire notebook by clicking Run on each code cell.  You will learn more if you create a new Notebook and type in the code for each code cell and then run each cell as you go along.\n",
    "***************************************************************************"
   ]
  },
  {
   "cell_type": "markdown",
   "id": "e00443c3",
   "metadata": {},
   "source": [
    "## Other types of variables\n",
    "More complex objects include:\n",
    ">- lists\n",
    ">- tuples\n",
    ">- dictionaries\n",
    ">- matrices\n",
    ">- DataFrames (a type of matrix)\n",
    ">- Series\n",
    "    "
   ]
  },
  {
   "cell_type": "markdown",
   "id": "9936aed8",
   "metadata": {},
   "source": [
    "A **list** is a list of data.<br>\n",
    "It is unordered- so the order of the elements of the object does not matter, and <br>\n",
    "It is mutable - the contents can be changed.<br>\n",
    "It does not allow duplicate values.<br>\n",
    "A list is denoted by squared brackets [].<br>\n",
    "A list can include numbers, strings, variables, another object, etc."
   ]
  },
  {
   "cell_type": "code",
   "execution_count": 2,
   "id": "c05d393c",
   "metadata": {},
   "outputs": [
    {
     "data": {
      "text/plain": [
       "[1, 2, 3, 'cat', 'dog', 6, 'boat']"
      ]
     },
     "execution_count": 2,
     "metadata": {},
     "output_type": "execute_result"
    }
   ],
   "source": [
    "x = 6\n",
    "name = 'boat'\n",
    "a_list = [1, 2, 3, 'cat','dog', x, name]\n",
    "a_list"
   ]
  },
  {
   "cell_type": "markdown",
   "id": "fd113cc3",
   "metadata": {},
   "source": [
    "A **tuple** is an ordered set of data.<br>\n",
    "It is immutable (cannot be changed) and allows duplicate values. <br>\n",
    "A tuple is denoted by curved brackets.\n",
    "*Note: to change a tuple, first convert to a list, change the list and convert back to a tuple.*  There are better ways to edit than the sequence below. It is just to show the difference between lists and tuples.\n"
   ]
  },
  {
   "cell_type": "code",
   "execution_count": 3,
   "id": "73922a9b",
   "metadata": {},
   "outputs": [
    {
     "data": {
      "text/plain": [
       "(1, 2, 1, 'cat', 'dog', 6, 'boat')"
      ]
     },
     "execution_count": 3,
     "metadata": {},
     "output_type": "execute_result"
    }
   ],
   "source": [
    "a_tuple = (1, 2, 1, 'cat','dog', x, name)\n",
    "a_tuple"
   ]
  },
  {
   "cell_type": "code",
   "execution_count": 4,
   "id": "ce49da26",
   "metadata": {},
   "outputs": [
    {
     "data": {
      "text/plain": [
       "(1, 2, 3, 'cat', 'dog', 6, 'boat')"
      ]
     },
     "execution_count": 4,
     "metadata": {},
     "output_type": "execute_result"
    }
   ],
   "source": [
    "#To convert a list to a tuple\n",
    "b_tuple = tuple(a_list)\n",
    "b_tuple"
   ]
  },
  {
   "cell_type": "code",
   "execution_count": 5,
   "id": "37cd22a1",
   "metadata": {},
   "outputs": [
    {
     "data": {
      "text/plain": [
       "[1, 2, 3, 'cat', 'dog', 6, 'boat']"
      ]
     },
     "execution_count": 5,
     "metadata": {},
     "output_type": "execute_result"
    }
   ],
   "source": [
    "#to convert a tuple to a list \n",
    "b_list = list(b_tuple)\n",
    "b_list"
   ]
  },
  {
   "cell_type": "code",
   "execution_count": 6,
   "id": "8d7fcf43",
   "metadata": {},
   "outputs": [
    {
     "data": {
      "text/plain": [
       "(1, 2, 'dog')"
      ]
     },
     "execution_count": 6,
     "metadata": {},
     "output_type": "execute_result"
    }
   ],
   "source": [
    "#to call an element of a list call by its index \n",
    "#(number denoting place in the list) indices start at 0\n",
    "b_list[0], b_list[1], b_list[4]"
   ]
  },
  {
   "cell_type": "markdown",
   "id": "10a389b7",
   "metadata": {},
   "source": [
    "A **dictionary** is a list that includes a key and its value.<br>\n",
    "Keys can be strings or numbers.<br>\n",
    "A dictionary is unordered (the order is preserved from Python 3.7), mutable, and does not allow duplicate keys.\n",
    "Dictionary keys are immutable and can consist of immutable strings, numbers, and tuples but not mutable objects such as lists.\n",
    "It is denoted by curly brackets{}\n",
    "https://realpython.com/python-dicts/\n",
    "\n",
    "Items in a dictionary can be numbers, strings or variables, lists and other dictionaries.<br>\n",
    "A value is called by its key.\n",
    "Dictionaries are not indexed."
   ]
  },
  {
   "cell_type": "code",
   "execution_count": 7,
   "id": "0fc335e4",
   "metadata": {},
   "outputs": [
    {
     "name": "stdout",
     "output_type": "stream",
     "text": [
      "{'a': 1, 'b': 2, 'c': 3, 2.5: 'cat', 1.2: 'dog', 'f': 6, 'g': 'boat'}\n"
     ]
    }
   ],
   "source": [
    "a_dict = {'a': 1, 'b':2, 'c':3, 2.5:\"cat\", 1.2:'dog', 'f': x, 'g':name}\n",
    "print(a_dict)"
   ]
  },
  {
   "cell_type": "code",
   "execution_count": 8,
   "id": "c3c8bfb2",
   "metadata": {},
   "outputs": [
    {
     "data": {
      "text/plain": [
       "'boat'"
      ]
     },
     "execution_count": 8,
     "metadata": {},
     "output_type": "execute_result"
    }
   ],
   "source": [
    "var = a_dict['g']\n",
    "var"
   ]
  },
  {
   "cell_type": "code",
   "execution_count": 9,
   "id": "da577128-476f-4729-9b64-72200070fbac",
   "metadata": {},
   "outputs": [
    {
     "name": "stdout",
     "output_type": "stream",
     "text": [
      "{'a': 1, 'b': 2, 'c': 3, 2.5: 'cat', 1.2: 'dog', 'f': 6, 'g': 'boat'}\n"
     ]
    },
    {
     "data": {
      "text/plain": [
       "'cat'"
      ]
     },
     "execution_count": 9,
     "metadata": {},
     "output_type": "execute_result"
    }
   ],
   "source": [
    "# An alternative way to construct a dictionary is to use the method dict on a list of tuples, in this case, pairs. There are cases for both both ways of constructing dictionaries.\n",
    "# Notice that the print command returns a dictionary, b_dict,  with the same format as a_dict.\n",
    "b_dict = dict([('a', 1),\n",
    "               ('b', 2),\n",
    "               ('c', 3),\n",
    "               (2.5, \"cat\"),\n",
    "               (1.2, 'dog'),\n",
    "               ('f', x),\n",
    "               ('g', name)])\n",
    "print(b_dict)\n",
    "var = a_dict[2.5]\n",
    "var"
   ]
  },
  {
   "cell_type": "markdown",
   "id": "93fbefe2-9937-4f38-a827-0e2fb7aceb82",
   "metadata": {},
   "source": [
    "Dictionaries like above are not common.  Generally they have a common theme such as below.\n",
    "\n",
    "color_theme = {'red':1, 'green':2, 'blue': 3, 'cyan':4, 'magenta':5, 'yellow': 6, 'black': 7}<br>\n",
    "dog_breeds = {'great_dane': large, 'doberman': large, 'boxer': medium, 'cocker_spaniel': medium, 'maltese': small, 'scottie': small}"
   ]
  },
  {
   "cell_type": "markdown",
   "id": "c75244cd-e3e4-4ecf-b732-a6d2633417e6",
   "metadata": {},
   "source": [
    "## Brackets and Braces\n",
    "There are three types of brackets (), [] and { }. They have different meanings and are not interchangeable.\n",
    "There are two string notation symbols  ' ', and \" \".  They are interchangeable but must be the same when opening and closing the string. I.e., x = \"boat\" or x = 'boat', which  is the same thing,   but not x = 'boat\" .\n",
    "\n",
    "More can be found here  https://www.geeksforgeeks.org/python-syntax/"
   ]
  },
  {
   "cell_type": "markdown",
   "id": "e4ec567b",
   "metadata": {},
   "source": [
    "## Matrices\n",
    "A Matrix is a list of lists.  This isn't particularly useful in itself as a limited number of operations can be performed on it.\n",
    "\n",
    "Certain types of matrices allow mathematical operations. These are called **arrays** and are dealt with in a package called **numpy**. <br>\n",
    "Other types of matrices are tables, similar to Excel tables, and we use a package called **Pandas** to manipulate and use these.  In Pandas, these tables are called **DataFrames**.  A one-dimensional version of a DataFrame is called a **Series** in Pandas. "
   ]
  },
  {
   "cell_type": "code",
   "execution_count": 10,
   "id": "04c395b7",
   "metadata": {},
   "outputs": [
    {
     "data": {
      "text/plain": [
       "[[1, 'cat', 3], [4, 'boat', 6]]"
      ]
     },
     "execution_count": 10,
     "metadata": {},
     "output_type": "execute_result"
    }
   ],
   "source": [
    "a_matrix = [[1, 'cat', 3], [4, name, 6]]\n",
    "a_matrix"
   ]
  },
  {
   "cell_type": "code",
   "execution_count": 11,
   "id": "87638274",
   "metadata": {},
   "outputs": [
    {
     "data": {
      "text/plain": [
       "[[[1, 'cat', 3], [4, 'boat', 6]],\n",
       " [[7, 8, 9], [1, 2, 3, 'cat', 'dog', 6, 'boat']]]"
      ]
     },
     "execution_count": 11,
     "metadata": {},
     "output_type": "execute_result"
    }
   ],
   "source": [
    "b_matrix = [[[1, 'cat', 3], [4, name, 6]],\n",
    "           [[7, 8, 9], b_list]]\n",
    "b_matrix"
   ]
  },
  {
   "cell_type": "code",
   "execution_count": 12,
   "id": "99d37bb8",
   "metadata": {},
   "outputs": [
    {
     "name": "stdout",
     "output_type": "stream",
     "text": [
      "The first row is:  [[1, 'cat', 3], [4, 'boat', 6]]\n",
      "The second row is:  [[7, 8, 9], [1, 2, 3, 'cat', 'dog', 6, 'boat']]\n",
      "The bottom right cell is:  [1, 2, 3, 'cat', 'dog', 6, 'boat']\n",
      "The top left cell is:  [1, 'cat', 3]\n",
      "The third element of the top left cell is:  3\n",
      "the third element of the botton right cell is:  6\n"
     ]
    }
   ],
   "source": [
    "#Matrix elements are called by position (rows and columns)\n",
    "# Each element is indexed\n",
    "row1 = b_matrix[0]\n",
    "row2 = b_matrix[1]\n",
    "bright = b_matrix[1][1]\n",
    "tleft = b_matrix[0][0]\n",
    "xx = b_matrix[1][1][5]   #row, column, element\n",
    "\n",
    "print('The first row is: ', row1)\n",
    "print('The second row is: ', row2)\n",
    "print('The bottom right cell is: ', bright)\n",
    "print('The top left cell is: ', tleft)\n",
    "print('The third element of the top left cell is: ', tleft[2])\n",
    "print('the third element of the botton right cell is: ', xx)"
   ]
  },
  {
   "cell_type": "markdown",
   "id": "6e941f62",
   "metadata": {},
   "source": [
    "Mostly, what we want to do is manipulate numbers or sort data into categories.  Lists are very useful for this.\n",
    "Our data is usually in tables.<br>\n",
    "\n",
    "Tables are built from lists and can be converted into Series and Arrays.\n",
    "More on Series and Arrays will be shown in later sections."
   ]
  },
  {
   "cell_type": "markdown",
   "id": "59755146-111c-4f18-a6a0-3e0561a627d4",
   "metadata": {},
   "source": [
    "## Syntax in Python"
   ]
  },
  {
   "cell_type": "markdown",
   "id": "3756cb78-ba1a-4bad-962d-b428b1e3f5a3",
   "metadata": {},
   "source": [
    "Like all languages, Python has a vocabulary and \"grammar\" or syntax. It also has style conventions used in the coding community. You will need to learn the difference between syntax and conventional styles. While not required by Python, certain styles are expected to be followed to make your code readable to others. Not following these conventions will cause problems, and your work will not be respected.\n",
    "\n",
    "Some examples below:"
   ]
  },
  {
   "attachments": {
    "4b2bc66a-001f-436c-a828-1b26a171a0ba.png": {
     "image/png": "[encoded data removed]"
    }
   },
   "cell_type": "markdown",
   "id": "dc35bbba-8f01-4b63-a3f7-e6a65e9ec4e4",
   "metadata": {},
   "source": [
    "\n",
    "\n",
    "x=y+1  #Python can read and execute<br>\n",
    "\n",
    "**convention**<br>\n",
    "\n",
    "x = y + 1    #add space between variables, operators and numbers. <br>  \n",
    "\n",
    "**indentation**<br>\n",
    "\n",
    "x = y + 1   # Start at left with NO SPACES.  Python can read this line.<br>\n",
    " >x = y +1   # get an indentation error.  Python cannot read this line.<br>\n",
    " \n",
    "Spaces between code elements, i.e. variables and operators, and between lines or code blocks are called white space. White space does nothing, but having enough makes the code easier to read.<br>\n",
    "\n",
    "Try each of the above and see what happens.\n",
    "to add a block below, click on this Markdown box, then above on the box with the + sign below ![image.png](attachment:4b2bc66a-001f-436c-a828-1b26a171a0ba.png)\n",
    "\n",
    "Or click on the + in the menu at the top of the page.\n"
   ]
  },
  {
   "cell_type": "code",
   "execution_count": 13,
   "id": "c6eca054-7576-4c12-90f8-a6f13f506ba4",
   "metadata": {},
   "outputs": [
    {
     "name": "stdout",
     "output_type": "stream",
     "text": [
      "2\n"
     ]
    }
   ],
   "source": [
    "#Correct syntax\n",
    "y = 1\n",
    "x = y+1\n",
    "\n",
    "print(x)"
   ]
  },
  {
   "cell_type": "code",
   "execution_count": 14,
   "id": "782e8316-b948-4f29-9372-538246325057",
   "metadata": {},
   "outputs": [
    {
     "ename": "IndentationError",
     "evalue": "unexpected indent (404601233.py, line 5)",
     "output_type": "error",
     "traceback": [
      "\u001b[1;36m  Cell \u001b[1;32mIn[14], line 5\u001b[1;36m\u001b[0m\n\u001b[1;33m    print(x)\u001b[0m\n\u001b[1;37m    ^\u001b[0m\n\u001b[1;31mIndentationError\u001b[0m\u001b[1;31m:\u001b[0m unexpected indent\n"
     ]
    }
   ],
   "source": [
    "# The second line produces an error due to the indent\n",
    "y = 1\n",
    "x = y+1\n",
    "\n",
    " print(x)"
   ]
  },
  {
   "cell_type": "markdown",
   "id": "ff187424-6c1f-407c-a9cb-1b1ef16a032e",
   "metadata": {},
   "source": [
    "**Indents** —Jupyter Notebook and other editing software will automatically indent to the correct space for some statements. i.e., if statements. DO NOT CHANGE THIS; these indents are required for syntax.<br>\n",
    "Subsequent lines must line up with the correct indents.  The indents tell Python what lines belong to which group of code.<br>\n",
    "If the auto-indent does not work, go to the left and use the tab key to get the indent.  Indents are 4 spaces-always.  "
   ]
  },
  {
   "cell_type": "code",
   "execution_count": 15,
   "id": "a78489a4-29af-461e-a4f0-7fb926cccdb7",
   "metadata": {},
   "outputs": [
    {
     "name": "stdout",
     "output_type": "stream",
     "text": [
      "2  Is not greater than  5\n",
      "5  Is not less than  2\n"
     ]
    }
   ],
   "source": [
    "#Correct syntax\n",
    "# Use line spaces between blocks of code.\n",
    "y = 5\n",
    "if x > y:\n",
    "    print(x)\n",
    "else:\n",
    "    print(x, \" Is not greater than \" , y)\n",
    "\n",
    "if x > y:\n",
    "    print(y)\n",
    "else:\n",
    "    print(y, \" Is not less than \" , x)"
   ]
  },
  {
   "cell_type": "code",
   "execution_count": 16,
   "id": "d76ba28a-b696-41a6-88e6-21cd1fe54e29",
   "metadata": {},
   "outputs": [
    {
     "ename": "SyntaxError",
     "evalue": "invalid syntax (2174677103.py, line 5)",
     "output_type": "error",
     "traceback": [
      "\u001b[1;36m  Cell \u001b[1;32mIn[16], line 5\u001b[1;36m\u001b[0m\n\u001b[1;33m    else:\u001b[0m\n\u001b[1;37m    ^\u001b[0m\n\u001b[1;31mSyntaxError\u001b[0m\u001b[1;31m:\u001b[0m invalid syntax\n"
     ]
    }
   ],
   "source": [
    "#Incorrect Syntax 1\n",
    "y = 5\n",
    "if x > y:\n",
    "    print(x)\n",
    "    else:\n",
    "    print(x, \" Is not greater than \" , y)"
   ]
  },
  {
   "cell_type": "code",
   "execution_count": null,
   "id": "0998a9fe-5d2b-4c6a-98ff-f2249e7202c2",
   "metadata": {},
   "outputs": [
    {
     "ename": "IndentationError",
     "evalue": "expected an indented block after 'else' statement on line 4 (2691334561.py, line 5)",
     "output_type": "error",
     "traceback": [
      "\u001b[1;36m  Cell \u001b[1;32mIn[22], line 5\u001b[1;36m\u001b[0m\n\u001b[1;33m    print(y, \" Is not less than \" , x)\u001b[0m\n\u001b[1;37m    ^\u001b[0m\n\u001b[1;31mIndentationError\u001b[0m\u001b[1;31m:\u001b[0m expected an indented block after 'else' statement on line 4\n"
     ]
    }
   ],
   "source": [
    "#Incorrect Syntax 2\n",
    "if x > y:\n",
    "    print(y)\n",
    "else:\n",
    "print(y, \" Is not less than \" , x)"
   ]
  },
  {
   "cell_type": "markdown",
   "id": "043b09ca-3300-4f19-b10f-488a23af8d5e",
   "metadata": {},
   "source": [
    "Liberal use of # followed by a comment to record what you are doing is good practice. It helps you remember what you did and helps others understand what the code is supposed to do.<br>\n",
    "\n",
    "If using Jupyter Notebook or Jupyter Lab or VS Code, I suggest using # comments for short comments in a code block and Markdown blocks, like this one, for longer commentary. R Studio also has a Markdown language."
   ]
  },
  {
   "cell_type": "markdown",
   "id": "500b9e72-5786-4546-95b6-c1a2b2590a76",
   "metadata": {},
   "source": [
    "## Loops\n",
    "\n",
    "Loops are code that repeats until a condition is met. Then, the code stops, and the result is output as a variable of some sort.  There are two types of loops a ***for*** loop and a ***while*** loop.  Good explanations with examples are given here:  https://www.geeksforgeeks.org/difference-between-for-loop-and-while-loop-in-programming/   , and <br>\n",
    "https://www.codingem.com/for-and-while-loops-in-python/\n",
    "\n",
    "***For*** loops are used when you have a defined condition and you know when the code will stop, e.g., in a block model where you know you have X blocks east, Y blocks North, and Z blocks up. Do something for each block and stop.  These are always finite and will terminate unless you have made a coding error.\n",
    "\n",
    "A ***while*** loop keeps running until a condition is met. Check and ensure there is a final condition and it is finite, or the loop will run forever.    A final condition is, normally, a specific value or number of iterations.\n",
    "\n",
    "Examples are given in the code blocks below. You will get more examples of loops in the course and have a chance to write some simple loops.  "
   ]
  },
  {
   "cell_type": "code",
   "execution_count": null,
   "id": "8bfd1f7d-184d-45c5-8b0f-f92b5aad43c6",
   "metadata": {},
   "outputs": [
    {
     "name": "stdout",
     "output_type": "stream",
     "text": [
      "21\n"
     ]
    }
   ],
   "source": [
    "list = [1, 2, 3, 4, 5, 6]        # Define a list\n",
    "total = 0                        # Define an initial condition\n",
    "for x in list:                   # Define variable from the list\n",
    "    total += x                   # Add the numbers\n",
    "  \n",
    "print(total)                     # Print the total"
   ]
  },
  {
   "cell_type": "markdown",
   "id": "5feaa63f-3312-4d87-8ec2-ffbc5b97706d",
   "metadata": {},
   "source": [
    "the += means total = total + x   see for more similar options https://www.w3schools.com/python/python_operators.asp"
   ]
  },
  {
   "cell_type": "code",
   "execution_count": null,
   "id": "3997b86b-a955-472a-ad0f-8811a5a411ca",
   "metadata": {},
   "outputs": [
    {
     "name": "stdout",
     "output_type": "stream",
     "text": [
      "[1, 2, 3, 4, 5, 6]\n",
      "21\n",
      "7\n"
     ]
    }
   ],
   "source": [
    "num_list = []                    # Define a variable list empty to start\n",
    "total = 0                        # Define an initial condition \n",
    "list_elements = 7                # Define the number of elements to add to the list   -list element is 1 more than required if <,  otherwise use the number of elements and <=.\n",
    "counter = 1                      # Define the initial number value\n",
    "while counter < list_elements:\n",
    "    num_list.append(counter)    # Create the list by appending each number in order\n",
    "    total += counter            # Add the number to the previous total\n",
    "    counter += 1                # Move to the next number higher by the increment +1\n",
    "print(num_list)                 # Print the list of numbers\n",
    "print(total)                    # Print the total of the numbers\n",
    "print(counter)                  # Print the last counter"
   ]
  },
  {
   "cell_type": "markdown",
   "id": "3ca00d55-07d1-460b-95f0-f665146309af",
   "metadata": {},
   "source": [
    "## Definitions or Functions\n",
    "\n",
    "If you are going to be using the same calculation many times, you can define a function and call it by name and input variables instead of writing the whole code each time. This is denoted by **def** followed by the code.\n",
    "\n",
    "You can define functions at the beginning of the notebook and call them from anywhere in the same notebook.\n",
    "You can set up a lot of these functions and create libraries or \"package\" them and then call the \"package\".  "
   ]
  },
  {
   "cell_type": "code",
   "execution_count": null,
   "id": "20083e64-c751-4dd3-b42f-30461d320711",
   "metadata": {},
   "outputs": [
    {
     "name": "stdout",
     "output_type": "stream",
     "text": [
      "The numbers in the list are:   [1, 2, 3, 4, 5, 6]\n",
      "The sum of the numbers in the list is:   21\n",
      "The number of elements in the list is:   6\n"
     ]
    }
   ],
   "source": [
    "\n",
    "def sum_list(list_elements,first_number, interval):  #define a function call sum_list with input variable list ; list_elements- number of elements, first_number-value, interval -value\n",
    "    num_list = []                    # Define an empty variable list\n",
    "    total = 0                        # Define an initial condition \n",
    "    list_len = 0                     # Define an initial condition length or number of elements in the list\n",
    "    counter = first_number           # Define the initial number value\n",
    "    while list_len < list_elements :\n",
    "        num_list.append(counter)     # Create the list by adding each number to the list at the beginning of the loop\n",
    "        list_len = len(num_list)     # count the length- number of elements- in the list\n",
    "        total += counter             # add the number to the previous total\n",
    "        counter += interval          # move to the next number higher by the increment interval\n",
    "        \n",
    "    print(\"The numbers in the list are:  \", num_list)                     # print the list of numbers\n",
    "    print(\"The sum of the numbers in the list is:  \", total)              # print the total of the numbers\n",
    "    print(\"The number of elements in the list is:  \", len(num_list))      # print number of elements in the list\n",
    "\n",
    "#Create a list of 6 numbers, starting with 1, increasing by an interval of 1 and adding them together.\n",
    "sum_list(6,1,1)    "
   ]
  },
  {
   "cell_type": "markdown",
   "id": "45aed00a-b775-4849-8ae2-d549acfcbfb3",
   "metadata": {},
   "source": [
    "## Exercise 10"
   ]
  },
  {
   "cell_type": "markdown",
   "id": "ad45bc56-13ca-4269-91ff-58257d239e9a",
   "metadata": {},
   "source": [
    "Use the function **sum_list** above to\n",
    "\n",
    "1. Create a list of 12 numbers, starting with -1, and increase by an interval of 2 and add them together.<br>\n",
    "2. Create a list of 5 numbers, starting with 2, and increase by an interval of 0.5 and add them together.\n"
   ]
  },
  {
   "cell_type": "markdown",
   "id": "eae0a132-ee3a-4e95-a668-344ac56db2e6",
   "metadata": {},
   "source": [
    "## Some other functions\n",
    "\n",
    "The statistical functions in Python itself aren't very comprehensive, and we will use other packages for some of the calculations. However, some simple ones are given below."
   ]
  },
  {
   "cell_type": "code",
   "execution_count": null,
   "id": "f3b08896-803e-4d06-9683-f8bdc694e445",
   "metadata": {},
   "outputs": [
    {
     "data": {
      "text/plain": [
       "101"
      ]
     },
     "execution_count": 26,
     "metadata": {},
     "output_type": "execute_result"
    }
   ],
   "source": [
    "data = (2,4,4,6,3,7,12,7,8,9,1,6,10,5,5,9,3)    # This is a tuple with data\n",
    "sum(data)"
   ]
  },
  {
   "cell_type": "code",
   "execution_count": null,
   "id": "dbe0a009-2631-456c-b470-b271eec2ecdb",
   "metadata": {},
   "outputs": [
    {
     "ename": "NameError",
     "evalue": "name 'mean' is not defined",
     "output_type": "error",
     "traceback": [
      "\u001b[1;31m---------------------------------------------------------------------------\u001b[0m",
      "\u001b[1;31mNameError\u001b[0m                                 Traceback (most recent call last)",
      "Cell \u001b[1;32mIn[27], line 1\u001b[0m\n\u001b[1;32m----> 1\u001b[0m mean(data)\n",
      "\u001b[1;31mNameError\u001b[0m: name 'mean' is not defined"
     ]
    }
   ],
   "source": [
    "mean(data)    # when you run this block you will get an error - there is no equivent mean or average"
   ]
  },
  {
   "cell_type": "code",
   "execution_count": null,
   "id": "0b3f041c-5f00-4e47-a278-fcaba82a104c",
   "metadata": {},
   "outputs": [
    {
     "data": {
      "text/plain": [
       "5.9411764705882355"
      ]
     },
     "execution_count": 28,
     "metadata": {},
     "output_type": "execute_result"
    }
   ],
   "source": [
    "mean = sum(data)/len(data)\n",
    "mean"
   ]
  },
  {
   "cell_type": "markdown",
   "id": "2756bb69-881e-47d2-a738-6bc7160af9a9",
   "metadata": {},
   "source": [
    "Trying to calculate the variance and standard deviation gets complicated, and it's unnecessary. There are \"packages\" already written to do these calculations; we need to import these packages to access the code.<br>\n",
    "If the package is already installed on your machine, we just need to *import* the module and call the required function.  In Python, there is a module called **statistics** which has basic statistics functions.<br>\n",
    "There is also a module called **math** which has more math functions. You will use this module in later lessons."
   ]
  },
  {
   "cell_type": "code",
   "execution_count": null,
   "id": "0b255da9-aff6-40e7-a0ef-186226c20ee0",
   "metadata": {
    "scrolled": true
   },
   "outputs": [
    {
     "name": "stdout",
     "output_type": "stream",
     "text": [
      "Help on module statistics:\n",
      "\n",
      "NAME\n",
      "    statistics - Basic statistics module.\n",
      "\n",
      "MODULE REFERENCE\n",
      "    https://docs.python.org/3.11/library/statistics.html\n",
      "    \n",
      "    The following documentation is automatically generated from the Python\n",
      "    source files.  It may be incomplete, incorrect or include features that\n",
      "    are considered implementation detail and may vary between Python\n",
      "    implementations.  When in doubt, consult the module reference at the\n",
      "    location listed above.\n",
      "\n",
      "DESCRIPTION\n",
      "    This module provides functions for calculating statistics of data, including\n",
      "    averages, variance, and standard deviation.\n",
      "    \n",
      "    Calculating averages\n",
      "    --------------------\n",
      "    \n",
      "    ==================  ==================================================\n",
      "    Function            Description\n",
      "    ==================  ==================================================\n",
      "    mean                Arithmetic mean (average) of data.\n",
      "    fmean               Fast, floating point arithmetic mean.\n",
      "    geometric_mean      Geometric mean of data.\n",
      "    harmonic_mean       Harmonic mean of data.\n",
      "    median              Median (middle value) of data.\n",
      "    median_low          Low median of data.\n",
      "    median_high         High median of data.\n",
      "    median_grouped      Median, or 50th percentile, of grouped data.\n",
      "    mode                Mode (most common value) of data.\n",
      "    multimode           List of modes (most common values of data).\n",
      "    quantiles           Divide data into intervals with equal probability.\n",
      "    ==================  ==================================================\n",
      "    \n",
      "    Calculate the arithmetic mean (\"the average\") of data:\n",
      "    \n",
      "    >>> mean([-1.0, 2.5, 3.25, 5.75])\n",
      "    2.625\n",
      "    \n",
      "    \n",
      "    Calculate the standard median of discrete data:\n",
      "    \n",
      "    >>> median([2, 3, 4, 5])\n",
      "    3.5\n",
      "    \n",
      "    \n",
      "    Calculate the median, or 50th percentile, of data grouped into class intervals\n",
      "    centred on the data values provided. E.g. if your data points are rounded to\n",
      "    the nearest whole number:\n",
      "    \n",
      "    >>> median_grouped([2, 2, 3, 3, 3, 4])  #doctest: +ELLIPSIS\n",
      "    2.8333333333...\n",
      "    \n",
      "    This should be interpreted in this way: you have two data points in the class\n",
      "    interval 1.5-2.5, three data points in the class interval 2.5-3.5, and one in\n",
      "    the class interval 3.5-4.5. The median of these data points is 2.8333...\n",
      "    \n",
      "    \n",
      "    Calculating variability or spread\n",
      "    ---------------------------------\n",
      "    \n",
      "    ==================  =============================================\n",
      "    Function            Description\n",
      "    ==================  =============================================\n",
      "    pvariance           Population variance of data.\n",
      "    variance            Sample variance of data.\n",
      "    pstdev              Population standard deviation of data.\n",
      "    stdev               Sample standard deviation of data.\n",
      "    ==================  =============================================\n",
      "    \n",
      "    Calculate the standard deviation of sample data:\n",
      "    \n",
      "    >>> stdev([2.5, 3.25, 5.5, 11.25, 11.75])  #doctest: +ELLIPSIS\n",
      "    4.38961843444...\n",
      "    \n",
      "    If you have previously calculated the mean, you can pass it as the optional\n",
      "    second argument to the four \"spread\" functions to avoid recalculating it:\n",
      "    \n",
      "    >>> data = [1, 2, 2, 4, 4, 4, 5, 6]\n",
      "    >>> mu = mean(data)\n",
      "    >>> pvariance(data, mu)\n",
      "    2.5\n",
      "    \n",
      "    \n",
      "    Statistics for relations between two inputs\n",
      "    -------------------------------------------\n",
      "    \n",
      "    ==================  ====================================================\n",
      "    Function            Description\n",
      "    ==================  ====================================================\n",
      "    covariance          Sample covariance for two variables.\n",
      "    correlation         Pearson's correlation coefficient for two variables.\n",
      "    linear_regression   Intercept and slope for simple linear regression.\n",
      "    ==================  ====================================================\n",
      "    \n",
      "    Calculate covariance, Pearson's correlation, and simple linear regression\n",
      "    for two inputs:\n",
      "    \n",
      "    >>> x = [1, 2, 3, 4, 5, 6, 7, 8, 9]\n",
      "    >>> y = [1, 2, 3, 1, 2, 3, 1, 2, 3]\n",
      "    >>> covariance(x, y)\n",
      "    0.75\n",
      "    >>> correlation(x, y)  #doctest: +ELLIPSIS\n",
      "    0.31622776601...\n",
      "    >>> linear_regression(x, y)  #doctest:\n",
      "    LinearRegression(slope=0.1, intercept=1.5)\n",
      "    \n",
      "    \n",
      "    Exceptions\n",
      "    ----------\n",
      "    \n",
      "    A single exception is defined: StatisticsError is a subclass of ValueError.\n",
      "\n",
      "CLASSES\n",
      "    builtins.ValueError(builtins.Exception)\n",
      "        StatisticsError\n",
      "    builtins.object\n",
      "        NormalDist\n",
      "    \n",
      "    class NormalDist(builtins.object)\n",
      "     |  NormalDist(mu=0.0, sigma=1.0)\n",
      "     |  \n",
      "     |  Normal distribution of a random variable\n",
      "     |  \n",
      "     |  Methods defined here:\n",
      "     |  \n",
      "     |  __add__(x1, x2)\n",
      "     |      Add a constant or another NormalDist instance.\n",
      "     |      \n",
      "     |      If *other* is a constant, translate mu by the constant,\n",
      "     |      leaving sigma unchanged.\n",
      "     |      \n",
      "     |      If *other* is a NormalDist, add both the means and the variances.\n",
      "     |      Mathematically, this works only if the two distributions are\n",
      "     |      independent or if they are jointly normally distributed.\n",
      "     |  \n",
      "     |  __eq__(x1, x2)\n",
      "     |      Two NormalDist objects are equal if their mu and sigma are both equal.\n",
      "     |  \n",
      "     |  __getstate__(self)\n",
      "     |      Helper for pickle.\n",
      "     |  \n",
      "     |  __hash__(self)\n",
      "     |      NormalDist objects hash equal if their mu and sigma are both equal.\n",
      "     |  \n",
      "     |  __init__(self, mu=0.0, sigma=1.0)\n",
      "     |      NormalDist where mu is the mean and sigma is the standard deviation.\n",
      "     |  \n",
      "     |  __mul__(x1, x2)\n",
      "     |      Multiply both mu and sigma by a constant.\n",
      "     |      \n",
      "     |      Used for rescaling, perhaps to change measurement units.\n",
      "     |      Sigma is scaled with the absolute value of the constant.\n",
      "     |  \n",
      "     |  __neg__(x1)\n",
      "     |      Negates mu while keeping sigma the same.\n",
      "     |  \n",
      "     |  __pos__(x1)\n",
      "     |      Return a copy of the instance.\n",
      "     |  \n",
      "     |  __radd__ = __add__(x1, x2)\n",
      "     |  \n",
      "     |  __repr__(self)\n",
      "     |      Return repr(self).\n",
      "     |  \n",
      "     |  __rmul__ = __mul__(x1, x2)\n",
      "     |  \n",
      "     |  __rsub__(x1, x2)\n",
      "     |      Subtract a NormalDist from a constant or another NormalDist.\n",
      "     |  \n",
      "     |  __setstate__(self, state)\n",
      "     |  \n",
      "     |  __sub__(x1, x2)\n",
      "     |      Subtract a constant or another NormalDist instance.\n",
      "     |      \n",
      "     |      If *other* is a constant, translate by the constant mu,\n",
      "     |      leaving sigma unchanged.\n",
      "     |      \n",
      "     |      If *other* is a NormalDist, subtract the means and add the variances.\n",
      "     |      Mathematically, this works only if the two distributions are\n",
      "     |      independent or if they are jointly normally distributed.\n",
      "     |  \n",
      "     |  __truediv__(x1, x2)\n",
      "     |      Divide both mu and sigma by a constant.\n",
      "     |      \n",
      "     |      Used for rescaling, perhaps to change measurement units.\n",
      "     |      Sigma is scaled with the absolute value of the constant.\n",
      "     |  \n",
      "     |  cdf(self, x)\n",
      "     |      Cumulative distribution function.  P(X <= x)\n",
      "     |  \n",
      "     |  inv_cdf(self, p)\n",
      "     |      Inverse cumulative distribution function.  x : P(X <= x) = p\n",
      "     |      \n",
      "     |      Finds the value of the random variable such that the probability of\n",
      "     |      the variable being less than or equal to that value equals the given\n",
      "     |      probability.\n",
      "     |      \n",
      "     |      This function is also called the percent point function or quantile\n",
      "     |      function.\n",
      "     |  \n",
      "     |  overlap(self, other)\n",
      "     |      Compute the overlapping coefficient (OVL) between two normal distributions.\n",
      "     |      \n",
      "     |      Measures the agreement between two normal probability distributions.\n",
      "     |      Returns a value between 0.0 and 1.0 giving the overlapping area in\n",
      "     |      the two underlying probability density functions.\n",
      "     |      \n",
      "     |          >>> N1 = NormalDist(2.4, 1.6)\n",
      "     |          >>> N2 = NormalDist(3.2, 2.0)\n",
      "     |          >>> N1.overlap(N2)\n",
      "     |          0.8035050657330205\n",
      "     |  \n",
      "     |  pdf(self, x)\n",
      "     |      Probability density function.  P(x <= X < x+dx) / dx\n",
      "     |  \n",
      "     |  quantiles(self, n=4)\n",
      "     |      Divide into *n* continuous intervals with equal probability.\n",
      "     |      \n",
      "     |      Returns a list of (n - 1) cut points separating the intervals.\n",
      "     |      \n",
      "     |      Set *n* to 4 for quartiles (the default).  Set *n* to 10 for deciles.\n",
      "     |      Set *n* to 100 for percentiles which gives the 99 cuts points that\n",
      "     |      separate the normal distribution in to 100 equal sized groups.\n",
      "     |  \n",
      "     |  samples(self, n, *, seed=None)\n",
      "     |      Generate *n* samples for a given mean and standard deviation.\n",
      "     |  \n",
      "     |  zscore(self, x)\n",
      "     |      Compute the Standard Score.  (x - mean) / stdev\n",
      "     |      \n",
      "     |      Describes *x* in terms of the number of standard deviations\n",
      "     |      above or below the mean of the normal distribution.\n",
      "     |  \n",
      "     |  ----------------------------------------------------------------------\n",
      "     |  Class methods defined here:\n",
      "     |  \n",
      "     |  from_samples(data) from builtins.type\n",
      "     |      Make a normal distribution instance from sample data.\n",
      "     |  \n",
      "     |  ----------------------------------------------------------------------\n",
      "     |  Readonly properties defined here:\n",
      "     |  \n",
      "     |  mean\n",
      "     |      Arithmetic mean of the normal distribution.\n",
      "     |  \n",
      "     |  median\n",
      "     |      Return the median of the normal distribution\n",
      "     |  \n",
      "     |  mode\n",
      "     |      Return the mode of the normal distribution\n",
      "     |      \n",
      "     |      The mode is the value x where which the probability density\n",
      "     |      function (pdf) takes its maximum value.\n",
      "     |  \n",
      "     |  stdev\n",
      "     |      Standard deviation of the normal distribution.\n",
      "     |  \n",
      "     |  variance\n",
      "     |      Square of the standard deviation.\n",
      "    \n",
      "    class StatisticsError(builtins.ValueError)\n",
      "     |  Method resolution order:\n",
      "     |      StatisticsError\n",
      "     |      builtins.ValueError\n",
      "     |      builtins.Exception\n",
      "     |      builtins.BaseException\n",
      "     |      builtins.object\n",
      "     |  \n",
      "     |  Data descriptors defined here:\n",
      "     |  \n",
      "     |  __weakref__\n",
      "     |      list of weak references to the object (if defined)\n",
      "     |  \n",
      "     |  ----------------------------------------------------------------------\n",
      "     |  Methods inherited from builtins.ValueError:\n",
      "     |  \n",
      "     |  __init__(self, /, *args, **kwargs)\n",
      "     |      Initialize self.  See help(type(self)) for accurate signature.\n",
      "     |  \n",
      "     |  ----------------------------------------------------------------------\n",
      "     |  Static methods inherited from builtins.ValueError:\n",
      "     |  \n",
      "     |  __new__(*args, **kwargs) from builtins.type\n",
      "     |      Create and return a new object.  See help(type) for accurate signature.\n",
      "     |  \n",
      "     |  ----------------------------------------------------------------------\n",
      "     |  Methods inherited from builtins.BaseException:\n",
      "     |  \n",
      "     |  __delattr__(self, name, /)\n",
      "     |      Implement delattr(self, name).\n",
      "     |  \n",
      "     |  __getattribute__(self, name, /)\n",
      "     |      Return getattr(self, name).\n",
      "     |  \n",
      "     |  __reduce__(...)\n",
      "     |      Helper for pickle.\n",
      "     |  \n",
      "     |  __repr__(self, /)\n",
      "     |      Return repr(self).\n",
      "     |  \n",
      "     |  __setattr__(self, name, value, /)\n",
      "     |      Implement setattr(self, name, value).\n",
      "     |  \n",
      "     |  __setstate__(...)\n",
      "     |  \n",
      "     |  __str__(self, /)\n",
      "     |      Return str(self).\n",
      "     |  \n",
      "     |  add_note(...)\n",
      "     |      Exception.add_note(note) --\n",
      "     |      add a note to the exception\n",
      "     |  \n",
      "     |  with_traceback(...)\n",
      "     |      Exception.with_traceback(tb) --\n",
      "     |      set self.__traceback__ to tb and return self.\n",
      "     |  \n",
      "     |  ----------------------------------------------------------------------\n",
      "     |  Data descriptors inherited from builtins.BaseException:\n",
      "     |  \n",
      "     |  __cause__\n",
      "     |      exception cause\n",
      "     |  \n",
      "     |  __context__\n",
      "     |      exception context\n",
      "     |  \n",
      "     |  __dict__\n",
      "     |  \n",
      "     |  __suppress_context__\n",
      "     |  \n",
      "     |  __traceback__\n",
      "     |  \n",
      "     |  args\n",
      "\n",
      "FUNCTIONS\n",
      "    correlation(x, y, /)\n",
      "        Pearson's correlation coefficient\n",
      "        \n",
      "        Return the Pearson's correlation coefficient for two inputs. Pearson's\n",
      "        correlation coefficient *r* takes values between -1 and +1. It measures the\n",
      "        strength and direction of the linear relationship, where +1 means very\n",
      "        strong, positive linear relationship, -1 very strong, negative linear\n",
      "        relationship, and 0 no linear relationship.\n",
      "        \n",
      "        >>> x = [1, 2, 3, 4, 5, 6, 7, 8, 9]\n",
      "        >>> y = [9, 8, 7, 6, 5, 4, 3, 2, 1]\n",
      "        >>> correlation(x, x)\n",
      "        1.0\n",
      "        >>> correlation(x, y)\n",
      "        -1.0\n",
      "    \n",
      "    covariance(x, y, /)\n",
      "        Covariance\n",
      "        \n",
      "        Return the sample covariance of two inputs *x* and *y*. Covariance\n",
      "        is a measure of the joint variability of two inputs.\n",
      "        \n",
      "        >>> x = [1, 2, 3, 4, 5, 6, 7, 8, 9]\n",
      "        >>> y = [1, 2, 3, 1, 2, 3, 1, 2, 3]\n",
      "        >>> covariance(x, y)\n",
      "        0.75\n",
      "        >>> z = [9, 8, 7, 6, 5, 4, 3, 2, 1]\n",
      "        >>> covariance(x, z)\n",
      "        -7.5\n",
      "        >>> covariance(z, x)\n",
      "        -7.5\n",
      "    \n",
      "    fmean(data, weights=None)\n",
      "        Convert data to floats and compute the arithmetic mean.\n",
      "        \n",
      "        This runs faster than the mean() function and it always returns a float.\n",
      "        If the input dataset is empty, it raises a StatisticsError.\n",
      "        \n",
      "        >>> fmean([3.5, 4.0, 5.25])\n",
      "        4.25\n",
      "    \n",
      "    geometric_mean(data)\n",
      "        Convert data to floats and compute the geometric mean.\n",
      "        \n",
      "        Raises a StatisticsError if the input dataset is empty,\n",
      "        if it contains a zero, or if it contains a negative value.\n",
      "        \n",
      "        No special efforts are made to achieve exact results.\n",
      "        (However, this may change in the future.)\n",
      "        \n",
      "        >>> round(geometric_mean([54, 24, 36]), 9)\n",
      "        36.0\n",
      "    \n",
      "    harmonic_mean(data, weights=None)\n",
      "        Return the harmonic mean of data.\n",
      "        \n",
      "        The harmonic mean is the reciprocal of the arithmetic mean of the\n",
      "        reciprocals of the data.  It can be used for averaging ratios or\n",
      "        rates, for example speeds.\n",
      "        \n",
      "        Suppose a car travels 40 km/hr for 5 km and then speeds-up to\n",
      "        60 km/hr for another 5 km. What is the average speed?\n",
      "        \n",
      "            >>> harmonic_mean([40, 60])\n",
      "            48.0\n",
      "        \n",
      "        Suppose a car travels 40 km/hr for 5 km, and when traffic clears,\n",
      "        speeds-up to 60 km/hr for the remaining 30 km of the journey. What\n",
      "        is the average speed?\n",
      "        \n",
      "            >>> harmonic_mean([40, 60], weights=[5, 30])\n",
      "            56.0\n",
      "        \n",
      "        If ``data`` is empty, or any element is less than zero,\n",
      "        ``harmonic_mean`` will raise ``StatisticsError``.\n",
      "    \n",
      "    linear_regression(x, y, /, *, proportional=False)\n",
      "        Slope and intercept for simple linear regression.\n",
      "        \n",
      "        Return the slope and intercept of simple linear regression\n",
      "        parameters estimated using ordinary least squares. Simple linear\n",
      "        regression describes relationship between an independent variable\n",
      "        *x* and a dependent variable *y* in terms of a linear function:\n",
      "        \n",
      "            y = slope * x + intercept + noise\n",
      "        \n",
      "        where *slope* and *intercept* are the regression parameters that are\n",
      "        estimated, and noise represents the variability of the data that was\n",
      "        not explained by the linear regression (it is equal to the\n",
      "        difference between predicted and actual values of the dependent\n",
      "        variable).\n",
      "        \n",
      "        The parameters are returned as a named tuple.\n",
      "        \n",
      "        >>> x = [1, 2, 3, 4, 5]\n",
      "        >>> noise = NormalDist().samples(5, seed=42)\n",
      "        >>> y = [3 * x[i] + 2 + noise[i] for i in range(5)]\n",
      "        >>> linear_regression(x, y)  #doctest: +ELLIPSIS\n",
      "        LinearRegression(slope=3.09078914170..., intercept=1.75684970486...)\n",
      "        \n",
      "        If *proportional* is true, the independent variable *x* and the\n",
      "        dependent variable *y* are assumed to be directly proportional.\n",
      "        The data is fit to a line passing through the origin.\n",
      "        \n",
      "        Since the *intercept* will always be 0.0, the underlying linear\n",
      "        function simplifies to:\n",
      "        \n",
      "            y = slope * x + noise\n",
      "        \n",
      "        >>> y = [3 * x[i] + noise[i] for i in range(5)]\n",
      "        >>> linear_regression(x, y, proportional=True)  #doctest: +ELLIPSIS\n",
      "        LinearRegression(slope=3.02447542484..., intercept=0.0)\n",
      "    \n",
      "    mean(data)\n",
      "        Return the sample arithmetic mean of data.\n",
      "        \n",
      "        >>> mean([1, 2, 3, 4, 4])\n",
      "        2.8\n",
      "        \n",
      "        >>> from fractions import Fraction as F\n",
      "        >>> mean([F(3, 7), F(1, 21), F(5, 3), F(1, 3)])\n",
      "        Fraction(13, 21)\n",
      "        \n",
      "        >>> from decimal import Decimal as D\n",
      "        >>> mean([D(\"0.5\"), D(\"0.75\"), D(\"0.625\"), D(\"0.375\")])\n",
      "        Decimal('0.5625')\n",
      "        \n",
      "        If ``data`` is empty, StatisticsError will be raised.\n",
      "    \n",
      "    median(data)\n",
      "        Return the median (middle value) of numeric data.\n",
      "        \n",
      "        When the number of data points is odd, return the middle data point.\n",
      "        When the number of data points is even, the median is interpolated by\n",
      "        taking the average of the two middle values:\n",
      "        \n",
      "        >>> median([1, 3, 5])\n",
      "        3\n",
      "        >>> median([1, 3, 5, 7])\n",
      "        4.0\n",
      "    \n",
      "    median_grouped(data, interval=1.0)\n",
      "        Estimates the median for numeric data binned around the midpoints\n",
      "        of consecutive, fixed-width intervals.\n",
      "        \n",
      "        The *data* can be any iterable of numeric data with each value being\n",
      "        exactly the midpoint of a bin.  At least one value must be present.\n",
      "        \n",
      "        The *interval* is width of each bin.\n",
      "        \n",
      "        For example, demographic information may have been summarized into\n",
      "        consecutive ten-year age groups with each group being represented\n",
      "        by the 5-year midpoints of the intervals:\n",
      "        \n",
      "            >>> demographics = Counter({\n",
      "            ...    25: 172,   # 20 to 30 years old\n",
      "            ...    35: 484,   # 30 to 40 years old\n",
      "            ...    45: 387,   # 40 to 50 years old\n",
      "            ...    55:  22,   # 50 to 60 years old\n",
      "            ...    65:   6,   # 60 to 70 years old\n",
      "            ... })\n",
      "        \n",
      "        The 50th percentile (median) is the 536th person out of the 1071\n",
      "        member cohort.  That person is in the 30 to 40 year old age group.\n",
      "        \n",
      "        The regular median() function would assume that everyone in the\n",
      "        tricenarian age group was exactly 35 years old.  A more tenable\n",
      "        assumption is that the 484 members of that age group are evenly\n",
      "        distributed between 30 and 40.  For that, we use median_grouped().\n",
      "        \n",
      "            >>> data = list(demographics.elements())\n",
      "            >>> median(data)\n",
      "            35\n",
      "            >>> round(median_grouped(data, interval=10), 1)\n",
      "            37.5\n",
      "        \n",
      "        The caller is responsible for making sure the data points are separated\n",
      "        by exact multiples of *interval*.  This is essential for getting a\n",
      "        correct result.  The function does not check this precondition.\n",
      "        \n",
      "        Inputs may be any numeric type that can be coerced to a float during\n",
      "        the interpolation step.\n",
      "    \n",
      "    median_high(data)\n",
      "        Return the high median of data.\n",
      "        \n",
      "        When the number of data points is odd, the middle value is returned.\n",
      "        When it is even, the larger of the two middle values is returned.\n",
      "        \n",
      "        >>> median_high([1, 3, 5])\n",
      "        3\n",
      "        >>> median_high([1, 3, 5, 7])\n",
      "        5\n",
      "    \n",
      "    median_low(data)\n",
      "        Return the low median of numeric data.\n",
      "        \n",
      "        When the number of data points is odd, the middle value is returned.\n",
      "        When it is even, the smaller of the two middle values is returned.\n",
      "        \n",
      "        >>> median_low([1, 3, 5])\n",
      "        3\n",
      "        >>> median_low([1, 3, 5, 7])\n",
      "        3\n",
      "    \n",
      "    mode(data)\n",
      "        Return the most common data point from discrete or nominal data.\n",
      "        \n",
      "        ``mode`` assumes discrete data, and returns a single value. This is the\n",
      "        standard treatment of the mode as commonly taught in schools:\n",
      "        \n",
      "            >>> mode([1, 1, 2, 3, 3, 3, 3, 4])\n",
      "            3\n",
      "        \n",
      "        This also works with nominal (non-numeric) data:\n",
      "        \n",
      "            >>> mode([\"red\", \"blue\", \"blue\", \"red\", \"green\", \"red\", \"red\"])\n",
      "            'red'\n",
      "        \n",
      "        If there are multiple modes with same frequency, return the first one\n",
      "        encountered:\n",
      "        \n",
      "            >>> mode(['red', 'red', 'green', 'blue', 'blue'])\n",
      "            'red'\n",
      "        \n",
      "        If *data* is empty, ``mode``, raises StatisticsError.\n",
      "    \n",
      "    multimode(data)\n",
      "        Return a list of the most frequently occurring values.\n",
      "        \n",
      "        Will return more than one result if there are multiple modes\n",
      "        or an empty list if *data* is empty.\n",
      "        \n",
      "        >>> multimode('aabbbbbbbbcc')\n",
      "        ['b']\n",
      "        >>> multimode('aabbbbccddddeeffffgg')\n",
      "        ['b', 'd', 'f']\n",
      "        >>> multimode('')\n",
      "        []\n",
      "    \n",
      "    pstdev(data, mu=None)\n",
      "        Return the square root of the population variance.\n",
      "        \n",
      "        See ``pvariance`` for arguments and other details.\n",
      "        \n",
      "        >>> pstdev([1.5, 2.5, 2.5, 2.75, 3.25, 4.75])\n",
      "        0.986893273527251\n",
      "    \n",
      "    pvariance(data, mu=None)\n",
      "        Return the population variance of ``data``.\n",
      "        \n",
      "        data should be a sequence or iterable of Real-valued numbers, with at least one\n",
      "        value. The optional argument mu, if given, should be the mean of\n",
      "        the data. If it is missing or None, the mean is automatically calculated.\n",
      "        \n",
      "        Use this function to calculate the variance from the entire population.\n",
      "        To estimate the variance from a sample, the ``variance`` function is\n",
      "        usually a better choice.\n",
      "        \n",
      "        Examples:\n",
      "        \n",
      "        >>> data = [0.0, 0.25, 0.25, 1.25, 1.5, 1.75, 2.75, 3.25]\n",
      "        >>> pvariance(data)\n",
      "        1.25\n",
      "        \n",
      "        If you have already calculated the mean of the data, you can pass it as\n",
      "        the optional second argument to avoid recalculating it:\n",
      "        \n",
      "        >>> mu = mean(data)\n",
      "        >>> pvariance(data, mu)\n",
      "        1.25\n",
      "        \n",
      "        Decimals and Fractions are supported:\n",
      "        \n",
      "        >>> from decimal import Decimal as D\n",
      "        >>> pvariance([D(\"27.5\"), D(\"30.25\"), D(\"30.25\"), D(\"34.5\"), D(\"41.75\")])\n",
      "        Decimal('24.815')\n",
      "        \n",
      "        >>> from fractions import Fraction as F\n",
      "        >>> pvariance([F(1, 4), F(5, 4), F(1, 2)])\n",
      "        Fraction(13, 72)\n",
      "    \n",
      "    quantiles(data, *, n=4, method='exclusive')\n",
      "        Divide *data* into *n* continuous intervals with equal probability.\n",
      "        \n",
      "        Returns a list of (n - 1) cut points separating the intervals.\n",
      "        \n",
      "        Set *n* to 4 for quartiles (the default).  Set *n* to 10 for deciles.\n",
      "        Set *n* to 100 for percentiles which gives the 99 cuts points that\n",
      "        separate *data* in to 100 equal sized groups.\n",
      "        \n",
      "        The *data* can be any iterable containing sample.\n",
      "        The cut points are linearly interpolated between data points.\n",
      "        \n",
      "        If *method* is set to *inclusive*, *data* is treated as population\n",
      "        data.  The minimum value is treated as the 0th percentile and the\n",
      "        maximum value is treated as the 100th percentile.\n",
      "    \n",
      "    stdev(data, xbar=None)\n",
      "        Return the square root of the sample variance.\n",
      "        \n",
      "        See ``variance`` for arguments and other details.\n",
      "        \n",
      "        >>> stdev([1.5, 2.5, 2.5, 2.75, 3.25, 4.75])\n",
      "        1.0810874155219827\n",
      "    \n",
      "    variance(data, xbar=None)\n",
      "        Return the sample variance of data.\n",
      "        \n",
      "        data should be an iterable of Real-valued numbers, with at least two\n",
      "        values. The optional argument xbar, if given, should be the mean of\n",
      "        the data. If it is missing or None, the mean is automatically calculated.\n",
      "        \n",
      "        Use this function when your data is a sample from a population. To\n",
      "        calculate the variance from the entire population, see ``pvariance``.\n",
      "        \n",
      "        Examples:\n",
      "        \n",
      "        >>> data = [2.75, 1.75, 1.25, 0.25, 0.5, 1.25, 3.5]\n",
      "        >>> variance(data)\n",
      "        1.3720238095238095\n",
      "        \n",
      "        If you have already calculated the mean of your data, you can pass it as\n",
      "        the optional second argument ``xbar`` to avoid recalculating it:\n",
      "        \n",
      "        >>> m = mean(data)\n",
      "        >>> variance(data, m)\n",
      "        1.3720238095238095\n",
      "        \n",
      "        This function does not check that ``xbar`` is actually the mean of\n",
      "        ``data``. Giving arbitrary values for ``xbar`` may lead to invalid or\n",
      "        impossible results.\n",
      "        \n",
      "        Decimals and Fractions are supported:\n",
      "        \n",
      "        >>> from decimal import Decimal as D\n",
      "        >>> variance([D(\"27.5\"), D(\"30.25\"), D(\"30.25\"), D(\"34.5\"), D(\"41.75\")])\n",
      "        Decimal('31.01875')\n",
      "        \n",
      "        >>> from fractions import Fraction as F\n",
      "        >>> variance([F(1, 6), F(1, 2), F(5, 3)])\n",
      "        Fraction(67, 108)\n",
      "\n",
      "DATA\n",
      "    __all__ = ['NormalDist', 'StatisticsError', 'correlation', 'covariance...\n",
      "    __annotations__ = {'_sqrt_bit_width': <class 'int'>}\n",
      "\n",
      "FILE\n",
      "    c:\\programdata\\anaconda3\\lib\\statistics.py\n",
      "\n",
      "\n"
     ]
    }
   ],
   "source": [
    "# To find out what is in the package and the syntax required, type help('statistics'), and the help reference will appear.  \n",
    "help('statistics')"
   ]
  },
  {
   "cell_type": "code",
   "execution_count": null,
   "id": "b0f76a51-eccf-47c1-8537-42d26ec81cc1",
   "metadata": {},
   "outputs": [
    {
     "name": "stdout",
     "output_type": "stream",
     "text": [
      "Help on built-in module math:\n",
      "\n",
      "NAME\n",
      "    math\n",
      "\n",
      "DESCRIPTION\n",
      "    This module provides access to the mathematical functions\n",
      "    defined by the C standard.\n",
      "\n",
      "FUNCTIONS\n",
      "    acos(x, /)\n",
      "        Return the arc cosine (measured in radians) of x.\n",
      "        \n",
      "        The result is between 0 and pi.\n",
      "    \n",
      "    acosh(x, /)\n",
      "        Return the inverse hyperbolic cosine of x.\n",
      "    \n",
      "    asin(x, /)\n",
      "        Return the arc sine (measured in radians) of x.\n",
      "        \n",
      "        The result is between -pi/2 and pi/2.\n",
      "    \n",
      "    asinh(x, /)\n",
      "        Return the inverse hyperbolic sine of x.\n",
      "    \n",
      "    atan(x, /)\n",
      "        Return the arc tangent (measured in radians) of x.\n",
      "        \n",
      "        The result is between -pi/2 and pi/2.\n",
      "    \n",
      "    atan2(y, x, /)\n",
      "        Return the arc tangent (measured in radians) of y/x.\n",
      "        \n",
      "        Unlike atan(y/x), the signs of both x and y are considered.\n",
      "    \n",
      "    atanh(x, /)\n",
      "        Return the inverse hyperbolic tangent of x.\n",
      "    \n",
      "    cbrt(x, /)\n",
      "        Return the cube root of x.\n",
      "    \n",
      "    ceil(x, /)\n",
      "        Return the ceiling of x as an Integral.\n",
      "        \n",
      "        This is the smallest integer >= x.\n",
      "    \n",
      "    comb(n, k, /)\n",
      "        Number of ways to choose k items from n items without repetition and without order.\n",
      "        \n",
      "        Evaluates to n! / (k! * (n - k)!) when k <= n and evaluates\n",
      "        to zero when k > n.\n",
      "        \n",
      "        Also called the binomial coefficient because it is equivalent\n",
      "        to the coefficient of k-th term in polynomial expansion of the\n",
      "        expression (1 + x)**n.\n",
      "        \n",
      "        Raises TypeError if either of the arguments are not integers.\n",
      "        Raises ValueError if either of the arguments are negative.\n",
      "    \n",
      "    copysign(x, y, /)\n",
      "        Return a float with the magnitude (absolute value) of x but the sign of y.\n",
      "        \n",
      "        On platforms that support signed zeros, copysign(1.0, -0.0)\n",
      "        returns -1.0.\n",
      "    \n",
      "    cos(x, /)\n",
      "        Return the cosine of x (measured in radians).\n",
      "    \n",
      "    cosh(x, /)\n",
      "        Return the hyperbolic cosine of x.\n",
      "    \n",
      "    degrees(x, /)\n",
      "        Convert angle x from radians to degrees.\n",
      "    \n",
      "    dist(p, q, /)\n",
      "        Return the Euclidean distance between two points p and q.\n",
      "        \n",
      "        The points should be specified as sequences (or iterables) of\n",
      "        coordinates.  Both inputs must have the same dimension.\n",
      "        \n",
      "        Roughly equivalent to:\n",
      "            sqrt(sum((px - qx) ** 2.0 for px, qx in zip(p, q)))\n",
      "    \n",
      "    erf(x, /)\n",
      "        Error function at x.\n",
      "    \n",
      "    erfc(x, /)\n",
      "        Complementary error function at x.\n",
      "    \n",
      "    exp(x, /)\n",
      "        Return e raised to the power of x.\n",
      "    \n",
      "    exp2(x, /)\n",
      "        Return 2 raised to the power of x.\n",
      "    \n",
      "    expm1(x, /)\n",
      "        Return exp(x)-1.\n",
      "        \n",
      "        This function avoids the loss of precision involved in the direct evaluation of exp(x)-1 for small x.\n",
      "    \n",
      "    fabs(x, /)\n",
      "        Return the absolute value of the float x.\n",
      "    \n",
      "    factorial(n, /)\n",
      "        Find n!.\n",
      "        \n",
      "        Raise a ValueError if x is negative or non-integral.\n",
      "    \n",
      "    floor(x, /)\n",
      "        Return the floor of x as an Integral.\n",
      "        \n",
      "        This is the largest integer <= x.\n",
      "    \n",
      "    fmod(x, y, /)\n",
      "        Return fmod(x, y), according to platform C.\n",
      "        \n",
      "        x % y may differ.\n",
      "    \n",
      "    frexp(x, /)\n",
      "        Return the mantissa and exponent of x, as pair (m, e).\n",
      "        \n",
      "        m is a float and e is an int, such that x = m * 2.**e.\n",
      "        If x is 0, m and e are both 0.  Else 0.5 <= abs(m) < 1.0.\n",
      "    \n",
      "    fsum(seq, /)\n",
      "        Return an accurate floating point sum of values in the iterable seq.\n",
      "        \n",
      "        Assumes IEEE-754 floating point arithmetic.\n",
      "    \n",
      "    gamma(x, /)\n",
      "        Gamma function at x.\n",
      "    \n",
      "    gcd(*integers)\n",
      "        Greatest Common Divisor.\n",
      "    \n",
      "    hypot(...)\n",
      "        hypot(*coordinates) -> value\n",
      "        \n",
      "        Multidimensional Euclidean distance from the origin to a point.\n",
      "        \n",
      "        Roughly equivalent to:\n",
      "            sqrt(sum(x**2 for x in coordinates))\n",
      "        \n",
      "        For a two dimensional point (x, y), gives the hypotenuse\n",
      "        using the Pythagorean theorem:  sqrt(x*x + y*y).\n",
      "        \n",
      "        For example, the hypotenuse of a 3/4/5 right triangle is:\n",
      "        \n",
      "            >>> hypot(3.0, 4.0)\n",
      "            5.0\n",
      "    \n",
      "    isclose(a, b, *, rel_tol=1e-09, abs_tol=0.0)\n",
      "        Determine whether two floating point numbers are close in value.\n",
      "        \n",
      "          rel_tol\n",
      "            maximum difference for being considered \"close\", relative to the\n",
      "            magnitude of the input values\n",
      "          abs_tol\n",
      "            maximum difference for being considered \"close\", regardless of the\n",
      "            magnitude of the input values\n",
      "        \n",
      "        Return True if a is close in value to b, and False otherwise.\n",
      "        \n",
      "        For the values to be considered close, the difference between them\n",
      "        must be smaller than at least one of the tolerances.\n",
      "        \n",
      "        -inf, inf and NaN behave similarly to the IEEE 754 Standard.  That\n",
      "        is, NaN is not close to anything, even itself.  inf and -inf are\n",
      "        only close to themselves.\n",
      "    \n",
      "    isfinite(x, /)\n",
      "        Return True if x is neither an infinity nor a NaN, and False otherwise.\n",
      "    \n",
      "    isinf(x, /)\n",
      "        Return True if x is a positive or negative infinity, and False otherwise.\n",
      "    \n",
      "    isnan(x, /)\n",
      "        Return True if x is a NaN (not a number), and False otherwise.\n",
      "    \n",
      "    isqrt(n, /)\n",
      "        Return the integer part of the square root of the input.\n",
      "    \n",
      "    lcm(*integers)\n",
      "        Least Common Multiple.\n",
      "    \n",
      "    ldexp(x, i, /)\n",
      "        Return x * (2**i).\n",
      "        \n",
      "        This is essentially the inverse of frexp().\n",
      "    \n",
      "    lgamma(x, /)\n",
      "        Natural logarithm of absolute value of Gamma function at x.\n",
      "    \n",
      "    log(...)\n",
      "        log(x, [base=math.e])\n",
      "        Return the logarithm of x to the given base.\n",
      "        \n",
      "        If the base not specified, returns the natural logarithm (base e) of x.\n",
      "    \n",
      "    log10(x, /)\n",
      "        Return the base 10 logarithm of x.\n",
      "    \n",
      "    log1p(x, /)\n",
      "        Return the natural logarithm of 1+x (base e).\n",
      "        \n",
      "        The result is computed in a way which is accurate for x near zero.\n",
      "    \n",
      "    log2(x, /)\n",
      "        Return the base 2 logarithm of x.\n",
      "    \n",
      "    modf(x, /)\n",
      "        Return the fractional and integer parts of x.\n",
      "        \n",
      "        Both results carry the sign of x and are floats.\n",
      "    \n",
      "    nextafter(x, y, /)\n",
      "        Return the next floating-point value after x towards y.\n",
      "    \n",
      "    perm(n, k=None, /)\n",
      "        Number of ways to choose k items from n items without repetition and with order.\n",
      "        \n",
      "        Evaluates to n! / (n - k)! when k <= n and evaluates\n",
      "        to zero when k > n.\n",
      "        \n",
      "        If k is not specified or is None, then k defaults to n\n",
      "        and the function returns n!.\n",
      "        \n",
      "        Raises TypeError if either of the arguments are not integers.\n",
      "        Raises ValueError if either of the arguments are negative.\n",
      "    \n",
      "    pow(x, y, /)\n",
      "        Return x**y (x to the power of y).\n",
      "    \n",
      "    prod(iterable, /, *, start=1)\n",
      "        Calculate the product of all the elements in the input iterable.\n",
      "        \n",
      "        The default start value for the product is 1.\n",
      "        \n",
      "        When the iterable is empty, return the start value.  This function is\n",
      "        intended specifically for use with numeric values and may reject\n",
      "        non-numeric types.\n",
      "    \n",
      "    radians(x, /)\n",
      "        Convert angle x from degrees to radians.\n",
      "    \n",
      "    remainder(x, y, /)\n",
      "        Difference between x and the closest integer multiple of y.\n",
      "        \n",
      "        Return x - n*y where n*y is the closest integer multiple of y.\n",
      "        In the case where x is exactly halfway between two multiples of\n",
      "        y, the nearest even value of n is used. The result is always exact.\n",
      "    \n",
      "    sin(x, /)\n",
      "        Return the sine of x (measured in radians).\n",
      "    \n",
      "    sinh(x, /)\n",
      "        Return the hyperbolic sine of x.\n",
      "    \n",
      "    sqrt(x, /)\n",
      "        Return the square root of x.\n",
      "    \n",
      "    tan(x, /)\n",
      "        Return the tangent of x (measured in radians).\n",
      "    \n",
      "    tanh(x, /)\n",
      "        Return the hyperbolic tangent of x.\n",
      "    \n",
      "    trunc(x, /)\n",
      "        Truncates the Real x to the nearest Integral toward 0.\n",
      "        \n",
      "        Uses the __trunc__ magic method.\n",
      "    \n",
      "    ulp(x, /)\n",
      "        Return the value of the least significant bit of the float x.\n",
      "\n",
      "DATA\n",
      "    e = 2.718281828459045\n",
      "    inf = inf\n",
      "    nan = nan\n",
      "    pi = 3.141592653589793\n",
      "    tau = 6.283185307179586\n",
      "\n",
      "FILE\n",
      "    (built-in)\n",
      "\n",
      "\n"
     ]
    }
   ],
   "source": [
    "help('math')"
   ]
  },
  {
   "cell_type": "code",
   "execution_count": null,
   "id": "7a3e97d9-d8f2-491f-9928-3cb078131846",
   "metadata": {},
   "outputs": [],
   "source": [
    "import statistics as st   # we use a short alias to cut down on typing"
   ]
  },
  {
   "cell_type": "code",
   "execution_count": null,
   "id": "d013794e-b726-48a5-9c82-50c441a1c48e",
   "metadata": {},
   "outputs": [
    {
     "data": {
      "text/plain": [
       "5.9411764705882355"
      ]
     },
     "execution_count": 32,
     "metadata": {},
     "output_type": "execute_result"
    }
   ],
   "source": [
    "#the syntax is:  module.method(input)\n",
    "st.mean(data)"
   ]
  },
  {
   "cell_type": "code",
   "execution_count": null,
   "id": "82fe5245-239f-4be8-a961-bdb1e07f8ff2",
   "metadata": {},
   "outputs": [
    {
     "data": {
      "text/plain": [
       "5.076494973909092"
      ]
     },
     "execution_count": 33,
     "metadata": {},
     "output_type": "execute_result"
    }
   ],
   "source": [
    "st.geometric_mean(data)"
   ]
  },
  {
   "cell_type": "code",
   "execution_count": null,
   "id": "77f9c162-883b-4a38-8f23-1da32245dd7d",
   "metadata": {},
   "outputs": [
    {
     "data": {
      "text/plain": [
       "[3.5, 6.0, 8.5]"
      ]
     },
     "execution_count": 34,
     "metadata": {},
     "output_type": "execute_result"
    }
   ],
   "source": [
    "st.quantiles(data)"
   ]
  },
  {
   "cell_type": "code",
   "execution_count": null,
   "id": "06b903d2-95a2-4b6a-a6b3-9db4eef2162c",
   "metadata": {},
   "outputs": [
    {
     "data": {
      "text/plain": [
       "8.525951557093425"
      ]
     },
     "execution_count": 35,
     "metadata": {},
     "output_type": "execute_result"
    }
   ],
   "source": [
    "st.pvariance(data)    #same a P.VAR or PVAR in Excel  population"
   ]
  },
  {
   "cell_type": "code",
   "execution_count": null,
   "id": "43a483ea-785e-408d-81c1-b069bc30124b",
   "metadata": {},
   "outputs": [
    {
     "data": {
      "text/plain": [
       "9.058823529411764"
      ]
     },
     "execution_count": 36,
     "metadata": {},
     "output_type": "execute_result"
    }
   ],
   "source": [
    "st.variance(data)   # same as S.VAR or SVAR in Excel  for sample  "
   ]
  },
  {
   "cell_type": "code",
   "execution_count": null,
   "id": "58429af8-441b-4b41-b23e-bb4b2cb1ed38",
   "metadata": {},
   "outputs": [
    {
     "data": {
      "text/plain": [
       "5.9411764705882355"
      ]
     },
     "execution_count": 37,
     "metadata": {},
     "output_type": "execute_result"
    }
   ],
   "source": [
    "mean = st.mean(data)\n",
    "mean"
   ]
  },
  {
   "cell_type": "code",
   "execution_count": null,
   "id": "85ba38bc-67bd-47c3-ba65-b632f688fb76",
   "metadata": {},
   "outputs": [
    {
     "data": {
      "text/plain": [
       "87.6"
      ]
     },
     "execution_count": 38,
     "metadata": {},
     "output_type": "execute_result"
    }
   ],
   "source": [
    "# Example of a weighted average\n",
    "grades = [85, 92, 83, 91]\n",
    "weights = [0.20, 0.20, 0.30, 0.30]\n",
    "st.fmean(grades, weights)"
   ]
  },
  {
   "cell_type": "markdown",
   "id": "7a11735c-f0a0-43c4-9dab-6175d08fd0f2",
   "metadata": {},
   "source": [
    "## Exercise 11"
   ]
  },
  {
   "cell_type": "markdown",
   "id": "c3f50c9d-d5aa-4744-b2e3-fc3793fe86e8",
   "metadata": {},
   "source": [
    "\n",
    "Try creating a list of data and calculating some of the statistics.\n",
    "\n",
    "Create another list of the same number of elements, but these should be weights.  In the example above, the weights add up o one. Weights such as density and volume can be anything and do not need to add up to 1.   Try both options an see what happens.\n",
    "\n",
    "Create another list with values related to the first (y = ax+b, b is not constant) list and try the covariance, correlation, and regression options.  "
   ]
  },
  {
   "cell_type": "markdown",
   "id": "36498097-85b4-4f94-852c-0c5f8763e421",
   "metadata": {},
   "source": [
    "## Submitting the Exercises"
   ]
  },
  {
   "cell_type": "markdown",
   "id": "eb238770-d7d6-46c5-b9c9-d10ae0ea5be5",
   "metadata": {},
   "source": [
    "Once done, make a zip file using Windows Explorer and upload the entire Notebook with the completed exercises into the LMS or email as instructed for your course. You need to make a zip file as the file types for upload are restricted, and most servers do not like files with code—these are potentially viruses or could damage the system, even an innocent Notebook like this one."
   ]
  },
  {
   "cell_type": "code",
   "execution_count": null,
   "id": "4297d1a5-7761-4e4f-a8e0-648f5d702105",
   "metadata": {},
   "outputs": [],
   "source": []
  }
 ],
 "metadata": {
  "kernelspec": {
   "display_name": "base",
   "language": "python",
   "name": "python3"
  },
  "language_info": {
   "codemirror_mode": {
    "name": "ipython",
    "version": 3
   },
   "file_extension": ".py",
   "mimetype": "text/x-python",
   "name": "python",
   "nbconvert_exporter": "python",
   "pygments_lexer": "ipython3",
   "version": "3.12.3"
  }
 },
 "nbformat": 4,
 "nbformat_minor": 5
}

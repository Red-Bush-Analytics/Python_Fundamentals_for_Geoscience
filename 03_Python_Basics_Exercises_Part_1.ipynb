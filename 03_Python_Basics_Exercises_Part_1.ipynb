{
 "cells": [
  {
   "cell_type": "markdown",
   "id": "689133d5-5d52-41c2-adbe-7faa304ae067",
   "metadata": {},
   "source": [
    "### License and Disclaimer\n",
    "\n",
    "**Copyright <2024> <Red Bush Analytics (Pty) Ltd>**\n",
    "\n",
    "Permission is hereby granted, free of charge, to any person obtaining a copy of this software and associated documentation files (the “Software”), to deal in the Software without restriction, including without limitation the rights to use, copy, modify, merge, publish, distribute, sublicense, and/or sell copies of the Software, and to permit persons to whom the Software is furnished to do so, subject to the following conditions.\n",
    "\n",
    "The above copyright notice and this permission notice shall be included in all copies or substantial portions of the Software.<br>\n",
    "\n",
    "THE SOFTWARE IS PROVIDED “AS IS”, WITHOUT WARRANTY OF ANY KIND, EXPRESS OR IMPLIED, INCLUDING BUT NOT LIMITED TO THE WARRANTIES OF MERCHANTABILITY, FITNESS FOR A PARTICULAR PURPOSE AND NONINFRINGEMENT. IN NO EVENT SHALL THE AUTHORS OR COPYRIGHT HOLDERS BE LIABLE FOR ANY CLAIM, DAMAGES OR OTHER LIABILITY, WHETHER IN AN ACTION OF CONTRACT, TORT OR OTHERWISE, ARISING FROM, OUT OF OR IN CONNECTION WITH THE SOFTWARE OR THE USE OR OTHER DEALINGS IN THE SOFTWARE.<br>\n",
    "\n",
    "This notebook was prepared by Red Bush Analytics for Deka Dynamics. <br> \n",
    "The reader can use the information below when appropriate credit is given where text is extracted.<br>\n",
    "This document's information is generally from public sources, and the copyrights to the content contained in the links belong to the authors.  It is your responsibility to check any restrictions on use with the respective copyright holders.<br>\n",
    "\n",
    "Opinions presented in this document are those of Red Bush Analytics and Kathleen Body (Author) as of the date published (2024/08/26) and are subject to change when presented with different information.   If you see another document with a different date and opinion, it is because I found new information, learned something and amended my opinion. Or, the Python code, Jupyter Notebook/lab software, or third-party links have changed, etc., and I updated the information. The same goes for the links presented. The information may change in the future. Check the document dates to make sure you have the information appropriate to the version of the software you are using.<br>\n",
    "\n",
    "**The information in this document is generally appropriate for Python versions from 3.9. Substantial changes have occurred from 3.9 onwards, and the information may not be appropriate for earlier versions of Python (3.8 or earlier).**\n"
   ]
  },
  {
   "cell_type": "markdown",
   "id": "39dd8ecf-976f-4c1d-ba5f-d3239975d077",
   "metadata": {},
   "source": [
    "# Exercises for Python Basics Part 1"
   ]
  },
  {
   "cell_type": "markdown",
   "id": "8cb31428-7ab7-4c47-b5fb-3aeb74e7deb5",
   "metadata": {},
   "source": [
    "## Exercise 1"
   ]
  },
  {
   "cell_type": "markdown",
   "id": "609ea468-9701-41f8-89cb-cfc1696e9df2",
   "metadata": {},
   "source": [
    "Try different variable names to see what happens.\n",
    "\n",
    "Use a separate code block for each variable.\n",
    "\n",
    "Assign the variable one of the following values 15,'fish', ['red', 'green', 'blue'], X, 20.234\n",
    "example:\n",
    "input_data = 10\n",
    "input@data = ['red', 'green', 'blue']\n",
    "\n",
    "Name the variable something that makes sense with the type of information contained. color = 'red' animal = 'dog' x = 15\n",
    "\n",
    "In an empty block below, type help('False'), then run. Look at the information contained. Do the same with print, type."
   ]
  },
  {
   "cell_type": "markdown",
   "id": "77a485ff-a32a-496c-bbfe-bfb1bdbe93a2",
   "metadata": {},
   "source": [
    "## Exercise 2"
   ]
  },
  {
   "cell_type": "markdown",
   "id": "751637f1-028d-4421-9a06-a1161809af11",
   "metadata": {},
   "source": [
    "For the variables in Exercise 1 find the type using type()."
   ]
  },
  {
   "cell_type": "code",
   "execution_count": null,
   "id": "2f23ec13-d01f-4f87-813f-81ad509f7a55",
   "metadata": {},
   "outputs": [],
   "source": []
  },
  {
   "cell_type": "markdown",
   "id": "5d6250fd-fa13-47a3-9edb-abc196da762f",
   "metadata": {},
   "source": [
    "## Exercise 3"
   ]
  },
  {
   "cell_type": "markdown",
   "id": "2a6a9f84-91ba-4fdc-b71e-d742586803e8",
   "metadata": {},
   "source": [
    "If you have an x and y variable in the previous exercise, you can keep using them; otherwise, assign a variable x and y, each with a number value.\n",
    "Use each of the arithmetic operators to manipulate the variables. i.e. x+y"
   ]
  },
  {
   "cell_type": "code",
   "execution_count": null,
   "id": "4784a0e6-2ffa-4c81-a83d-e84e550839b3",
   "metadata": {},
   "outputs": [],
   "source": []
  },
  {
   "cell_type": "markdown",
   "id": "c46ac73e-24d3-413e-ba40-963cb0750513",
   "metadata": {},
   "source": [
    "## Exercise 4"
   ]
  },
  {
   "cell_type": "markdown",
   "id": "58f6e5ff-ea0e-495d-bb34-486ec40071ae",
   "metadata": {},
   "source": [
    "Using the values from Exercise 3, manipulate the varible y using each of the assignment operators."
   ]
  },
  {
   "cell_type": "code",
   "execution_count": null,
   "id": "1d95eed1-5c10-4f5b-9951-268b81f5a4a8",
   "metadata": {},
   "outputs": [],
   "source": []
  },
  {
   "cell_type": "markdown",
   "id": "0ebddd41-3467-43df-b441-ddb0c97384b9",
   "metadata": {},
   "source": [
    "## Exercise 5"
   ]
  },
  {
   "cell_type": "markdown",
   "id": "f38634b7-a384-435c-9561-ecc7c893c2f7",
   "metadata": {},
   "source": [
    "Using the same variables as Exercise 4 compare x and y using each of the comparison operators."
   ]
  },
  {
   "cell_type": "code",
   "execution_count": null,
   "id": "170c498a-da8d-4f07-9c37-56aadff8ed64",
   "metadata": {},
   "outputs": [],
   "source": []
  },
  {
   "cell_type": "markdown",
   "id": "dc85cc52-9cd4-481b-8055-e79550281020",
   "metadata": {},
   "source": [
    "## Exercise 6"
   ]
  },
  {
   "cell_type": "markdown",
   "id": "d22ce815-d252-4dbc-839c-b5af47e41c9c",
   "metadata": {},
   "source": [
    "Repeat the exercise above.  Create five variables containing strings. These can be one word or multiple words with spaces.  Compare the variable to see how Python orders strings."
   ]
  },
  {
   "cell_type": "code",
   "execution_count": null,
   "id": "8787ac29-dba1-4f43-b3d7-610c9b012eba",
   "metadata": {},
   "outputs": [],
   "source": []
  },
  {
   "cell_type": "markdown",
   "id": "21b1b46d-1924-4dbc-a96a-2284a3b75d23",
   "metadata": {},
   "source": [
    "## Exercise 7"
   ]
  },
  {
   "cell_type": "markdown",
   "id": "a8611f81-dcf6-4362-98d2-6c06ecf18035",
   "metadata": {},
   "source": [
    "Compare the lengths of the variables in Exercises 5 and 6. Use variables of the same type, as comparing the length of a number and string may not be sensible."
   ]
  },
  {
   "cell_type": "markdown",
   "id": "469cf8cf-e1a7-4c8f-9635-0a226b474107",
   "metadata": {},
   "source": []
  },
  {
   "cell_type": "markdown",
   "id": "709bf47d-7478-4cfb-90b2-3fff8a91f99b",
   "metadata": {},
   "source": [
    "## Exercise 8"
   ]
  },
  {
   "cell_type": "code",
   "execution_count": null,
   "id": "3afdcb79-ec58-4f26-ae58-07a06dd24317",
   "metadata": {},
   "outputs": [],
   "source": [
    "if  a and b <=20:\n",
    "    sum = a+b\n",
    "    print(\"the sum of a and b is : \", sum)\n",
    "else:\n",
    "    print('One of the variables is put of range \\n', 'Please check your inputs')"
   ]
  },
  {
   "cell_type": "markdown",
   "id": "02596c89-ade7-4b8d-8ef8-2f2cca4388b3",
   "metadata": {},
   "source": [
    "## Exercise 9"
   ]
  },
  {
   "cell_type": "markdown",
   "id": "a775e5f9-12f3-40c3-ae71-08c4af10fc73",
   "metadata": {},
   "source": [
    "Create 4 variables with different values.  Try at least 4 different combination of conditions using each of the operators."
   ]
  },
  {
   "cell_type": "markdown",
   "id": "4aa2b1aa-eda8-47ee-8855-f75b1cb4ed0c",
   "metadata": {},
   "source": [
    "Create a markdown block below><br>\n",
    "Create markdown blocks in the exercises above to explain your work"
   ]
  },
  {
   "cell_type": "markdown",
   "id": "0aba776f-2c87-4618-b8b9-7f9bf4f52259",
   "metadata": {},
   "source": [
    "## Exercise 10"
   ]
  },
  {
   "cell_type": "markdown",
   "id": "bb37db59-099d-43a6-8540-a76b9442e609",
   "metadata": {},
   "source": [
    "Try creating a list of data and calculating some of the statistics.\n",
    "\n",
    "Create another list of the same number of elements, but these should be weights.  In the example above, the weights add up to one. Weights such as density and volume can be anything and do not need to add up to 1.   Try both options an see what happens.\n",
    "\n",
    "Create another list with values related to the first (y = ax+b, b is not constant) list and try the covariance, correlation, and regression options. "
   ]
  },
  {
   "cell_type": "code",
   "execution_count": null,
   "id": "ba8d8607-344c-458e-90e9-464a30c2a7fe",
   "metadata": {},
   "outputs": [],
   "source": []
  }
 ],
 "metadata": {
  "kernelspec": {
   "display_name": "Python 3 (ipykernel)",
   "language": "python",
   "name": "python3"
  },
  "language_info": {
   "codemirror_mode": {
    "name": "ipython",
    "version": 3
   },
   "file_extension": ".py",
   "mimetype": "text/x-python",
   "name": "python",
   "nbconvert_exporter": "python",
   "pygments_lexer": "ipython3",
   "version": "3.12.3"
  },
  "toc": {
   "base_numbering": 1,
   "nav_menu": {},
   "number_sections": true,
   "sideBar": true,
   "skip_h1_title": false,
   "title_cell": "Table of Contents",
   "title_sidebar": "Contents",
   "toc_cell": false,
   "toc_position": {},
   "toc_section_display": true,
   "toc_window_display": false
  }
 },
 "nbformat": 4,
 "nbformat_minor": 5
}

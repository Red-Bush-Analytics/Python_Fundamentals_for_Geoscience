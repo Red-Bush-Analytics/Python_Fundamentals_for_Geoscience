{
 "cells": [
  {
   "cell_type": "markdown",
   "id": "988b99ba-17ef-4d00-bed5-609be24a3fe1",
   "metadata": {},
   "source": [
    "### License and Disclaimer\n",
    "\n",
    "**Copyright <2024> <Red Bush Analytics (Pty) Ltd>**\n",
    "\n",
    "Permission is hereby granted, free of charge, to any person obtaining a copy of this software and associated documentation files (the “Software”), to deal in the Software without restriction, including without limitation the rights to use, copy, modify, merge, publish, distribute, sublicense, and/or sell copies of the Software, and to permit persons to whom the Software is furnished to do so, subject to the following conditions.\n",
    "\n",
    "The above copyright notice and this permission notice shall be included in all copies or substantial portions of the Software.<br>\n",
    "\n",
    "THE SOFTWARE IS PROVIDED “AS IS”, WITHOUT WARRANTY OF ANY KIND, EXPRESS OR IMPLIED, INCLUDING BUT NOT LIMITED TO THE WARRANTIES OF MERCHANTABILITY, FITNESS FOR A PARTICULAR PURPOSE AND NONINFRINGEMENT. IN NO EVENT SHALL THE AUTHORS OR COPYRIGHT HOLDERS BE LIABLE FOR ANY CLAIM, DAMAGES OR OTHER LIABILITY, WHETHER IN AN ACTION OF CONTRACT, TORT OR OTHERWISE, ARISING FROM, OUT OF OR IN CONNECTION WITH THE SOFTWARE OR THE USE OR OTHER DEALINGS IN THE SOFTWARE.<br>\n",
    "\n",
    "This notebook was prepared by Red Bush Analytics for Deka Dynami. <br> \n",
    "The reader can use the information below when appropriate credit is given where text is extracted.<br>\n",
    "This document's information is generally from public sources, and the copyrights to the content contained in the links belong to the authors.  It is your responsibility to check any restrictions on use with the respective copyright holders.<br>\n",
    "\n",
    "Opinions presented in this document are those of Red Bush Analytics and Kathleen Body (Author) as of the date published (2024/08/26) and are subject to change when presented with different information.   If you see another document with a different date and opinion, it is because I found new information, learned something and amended my opinion. Or, the Python code, Jupyter Notebook/lab software, or third-party links have changed, etc., and I updated the information. The same goes for the links presented. The information may change in the future. Check the document dates to make sure you have the information appropriate to the version of the software you are using.<br>\n",
    "\n",
    "**The information in this document is generally appropriate for Python versions from 3.9. Substantial changes have occurred from 3.9 onwards, and the information may not be appropriate for earlier versions of Python (3.8 or earlier).**\n"
   ]
  },
  {
   "cell_type": "markdown",
   "id": "39dd8ecf-976f-4c1d-ba5f-d3239975d077",
   "metadata": {},
   "source": [
    "## Exercises for Python Basics Part 2"
   ]
  },
  {
   "cell_type": "markdown",
   "id": "27740921-bc2a-4045-8569-efa5ecb8bb43",
   "metadata": {},
   "source": [
    "## Exercise 10"
   ]
  },
  {
   "cell_type": "code",
   "execution_count": null,
   "id": "c58b4f53-ec5b-4579-95bf-ac38a21f01a2",
   "metadata": {},
   "outputs": [],
   "source": [
    "def sum_list(list_elements,first_number, interval):  #define a function call sum_list with input variable list ; list_elements- number of elements, first_number-value, interval -value\n",
    "    num_list = []                    # Define an empty variable list\n",
    "    total = 0                        # Define an initial condition \n",
    "    list_len = 0                     # Define an initial condition length or number of elements in the list\n",
    "    counter = first_number           # Define the initial number value\n",
    "    while list_len < list_elements :\n",
    "        num_list.append(counter)     # Create the list by adding each number to the list at the beginning of the loop\n",
    "        list_len = len(num_list)     # count the length- number of elements- in the list\n",
    "        total += counter             # add the number to the previous total\n",
    "        counter += interval          # move to the next number higher by the increment interval\n",
    "        \n",
    "    print(\"The numbers in the list are:  \", num_list)                     # print the list of numbers\n",
    "    print(\"The sum of the numbers in the list is:  \", total)              # print the total of the numbers\n",
    "    print(\"The number of elements in the list is:  \", len(num_list))      # print number of elements in the list"
   ]
  },
  {
   "cell_type": "markdown",
   "id": "f1963915-8d35-433e-a067-4df6913f5339",
   "metadata": {},
   "source": [
    "Use the function sum_list above to\n",
    "\n",
    "Create a list of 12 numbers, starting with -1, and increase by an interval of 2 and add them together.\n",
    "Create a list of 5 numbers, starting with 2, and increase by an interval of 0.5 and add them together.\n",
    "\n",
    "Remember to run the code block first"
   ]
  },
  {
   "cell_type": "code",
   "execution_count": null,
   "id": "1a4b698d-50a3-4d3d-b573-d18736f55002",
   "metadata": {},
   "outputs": [],
   "source": []
  },
  {
   "cell_type": "markdown",
   "id": "0aba776f-2c87-4618-b8b9-7f9bf4f52259",
   "metadata": {},
   "source": [
    "## Exercise 11"
   ]
  },
  {
   "cell_type": "markdown",
   "id": "bb37db59-099d-43a6-8540-a76b9442e609",
   "metadata": {},
   "source": [
    "Try creating a list of data and calculating some of the statistics.\n",
    "\n",
    "Create another list of the same number of elements, but these should be weights.  In the example above, the weights add up to one. Weights such as density and volume can be anything and do not need to add up to 1.   Try both options an see what happens.\n",
    "\n",
    "Create another list with values related to the first (y = ax+b, b is not constant) list and try the covariance, correlation, and regression options. "
   ]
  },
  {
   "cell_type": "markdown",
   "id": "15bb5036-d255-4d7e-87a3-68df73d793d5",
   "metadata": {},
   "source": [
    "## Submitting the Exercises"
   ]
  },
  {
   "cell_type": "markdown",
   "id": "0c540396-3bb0-46fc-8afe-04082745db8f",
   "metadata": {},
   "source": [
    "Once done, make a zip file using Windows Explorer and upload the entire Notebook with the completed exercises into the LMS or email as instructed for your course. You need to make a zip file as the file types for upload are restricted, and most servers do not like files with code—these are potentially viruses or could damage the system, even an innocent Notebook like this one."
   ]
  },
  {
   "cell_type": "code",
   "execution_count": null,
   "id": "1292c0c0-47ee-4045-894c-1c4eea3717da",
   "metadata": {},
   "outputs": [],
   "source": []
  }
 ],
 "metadata": {
  "kernelspec": {
   "display_name": "Python 3 (ipykernel)",
   "language": "python",
   "name": "python3"
  },
  "language_info": {
   "codemirror_mode": {
    "name": "ipython",
    "version": 3
   },
   "file_extension": ".py",
   "mimetype": "text/x-python",
   "name": "python",
   "nbconvert_exporter": "python",
   "pygments_lexer": "ipython3",
   "version": "3.11.5"
  }
 },
 "nbformat": 4,
 "nbformat_minor": 5
}
